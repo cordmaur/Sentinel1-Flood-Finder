{
 "cells": [
  {
   "cell_type": "markdown",
   "metadata": {},
   "source": [
    "# WaterFinder class"
   ]
  },
  {
   "cell_type": "code",
   "execution_count": 5,
   "metadata": {},
   "outputs": [],
   "source": [
    "from flood_finder.waterfinder import WaterFinder\n",
    "import geopandas as gpd"
   ]
  },
  {
   "cell_type": "code",
   "execution_count": 3,
   "metadata": {},
   "outputs": [],
   "source": [
    "roi = {\n",
    "  \"type\": \"FeatureCollection\",\n",
    "  \"features\": [\n",
    "    {\n",
    "      \"type\": \"Feature\",\n",
    "      \"properties\": {},\n",
    "      \"geometry\": {\n",
    "        \"coordinates\": [\n",
    "          [\n",
    "            [\n",
    "              -55.85381630956452,\n",
    "              -29.75258818268783\n",
    "            ],\n",
    "            [\n",
    "              -55.85381630956452,\n",
    "              -29.829051778923365\n",
    "            ],\n",
    "            [\n",
    "              -55.73479957129133,\n",
    "              -29.829051778923365\n",
    "            ],\n",
    "            [\n",
    "              -55.73479957129133,\n",
    "              -29.75258818268783\n",
    "            ],\n",
    "            [\n",
    "              -55.85381630956452,\n",
    "              -29.75258818268783\n",
    "            ]\n",
    "          ]\n",
    "        ],\n",
    "        \"type\": \"Polygon\"\n",
    "      }\n",
    "    }\n",
    "  ]\n",
    "}"
   ]
  },
  {
   "cell_type": "code",
   "execution_count": 6,
   "metadata": {},
   "outputs": [],
   "source": [
    "# write the ROI to a GeoDataFrame\n",
    "# PS: We need to make sure the Coordinate Reference System is set\n",
    "gdf = gpd.GeoDataFrame.from_features(roi).set_crs('epsg:4326')"
   ]
  },
  {
   "cell_type": "code",
   "execution_count": 8,
   "metadata": {},
   "outputs": [
    {
     "name": "stderr",
     "output_type": "stream",
     "text": [
      "2024-01-31 13:51:55 | tmp.WaterFinder:INFO -> Starting WaterFinder instance for tmp\n"
     ]
    },
    {
     "ename": "TypeError",
     "evalue": "ImageFinder.__init__() missing 1 required positional argument: 'subscription_key'",
     "output_type": "error",
     "traceback": [
      "\u001b[0;31m---------------------------------------------------------------------------\u001b[0m",
      "\u001b[0;31mTypeError\u001b[0m                                 Traceback (most recent call last)",
      "\u001b[1;32m/workspaces/Sentinel1-Flood-Finder/nbs/98-WaterFinder.ipynb Cell 5\u001b[0m line \u001b[0;36m1\n\u001b[0;32m----> <a href='vscode-notebook-cell://dev-container%2B7b22686f737450617468223a22643a5c5c50726f6a656374735c5c53656e74696e656c312d466c6f6f642d46696e646572222c226c6f63616c446f636b6572223a66616c73652c22636f6e66696746696c65223a7b22246d6964223a312c22667350617468223a22643a5c5c50726f6a656374735c5c53656e74696e656c312d466c6f6f642d46696e6465725c5c2e646576636f6e7461696e65725c5c646576636f6e7461696e65722e6a736f6e222c225f736570223a312c2265787465726e616c223a2266696c653a2f2f2f642533412f50726f6a656374732f53656e74696e656c312d466c6f6f642d46696e6465722f2e646576636f6e7461696e65722f646576636f6e7461696e65722e6a736f6e222c2270617468223a222f643a2f50726f6a656374732f53656e74696e656c312d466c6f6f642d46696e6465722f2e646576636f6e7461696e65722f646576636f6e7461696e65722e6a736f6e222c22736368656d65223a2266696c65227d7d/workspaces/Sentinel1-Flood-Finder/nbs/98-WaterFinder.ipynb#X11sdnNjb2RlLXJlbW90ZQ%3D%3D?line=0'>1</a>\u001b[0m finder \u001b[39m=\u001b[39m WaterFinder(\n\u001b[1;32m      <a href='vscode-notebook-cell://dev-container%2B7b22686f737450617468223a22643a5c5c50726f6a656374735c5c53656e74696e656c312d466c6f6f642d46696e646572222c226c6f63616c446f636b6572223a66616c73652c22636f6e66696746696c65223a7b22246d6964223a312c22667350617468223a22643a5c5c50726f6a656374735c5c53656e74696e656c312d466c6f6f642d46696e6465725c5c2e646576636f6e7461696e65725c5c646576636f6e7461696e65722e6a736f6e222c225f736570223a312c2265787465726e616c223a2266696c653a2f2f2f642533412f50726f6a656374732f53656e74696e656c312d466c6f6f642d46696e6465722f2e646576636f6e7461696e65722f646576636f6e7461696e65722e6a736f6e222c2270617468223a222f643a2f50726f6a656374732f53656e74696e656c312d466c6f6f642d46696e6465722f2e646576636f6e7461696e65722f646576636f6e7461696e65722e6a736f6e222c22736368656d65223a2266696c65227d7d/workspaces/Sentinel1-Flood-Finder/nbs/98-WaterFinder.ipynb#X11sdnNjb2RlLXJlbW90ZQ%3D%3D?line=1'>2</a>\u001b[0m     output_path\u001b[39m=\u001b[39;49m\u001b[39m'\u001b[39;49m\u001b[39m../tmp\u001b[39;49m\u001b[39m'\u001b[39;49m,\n\u001b[1;32m      <a href='vscode-notebook-cell://dev-container%2B7b22686f737450617468223a22643a5c5c50726f6a656374735c5c53656e74696e656c312d466c6f6f642d46696e646572222c226c6f63616c446f636b6572223a66616c73652c22636f6e66696746696c65223a7b22246d6964223a312c22667350617468223a22643a5c5c50726f6a656374735c5c53656e74696e656c312d466c6f6f642d46696e6465725c5c2e646576636f6e7461696e65725c5c646576636f6e7461696e65722e6a736f6e222c225f736570223a312c2265787465726e616c223a2266696c653a2f2f2f642533412f50726f6a656374732f53656e74696e656c312d466c6f6f642d46696e6465722f2e646576636f6e7461696e65722f646576636f6e7461696e65722e6a736f6e222c2270617468223a222f643a2f50726f6a656374732f53656e74696e656c312d466c6f6f642d46696e6465722f2e646576636f6e7461696e65722f646576636f6e7461696e65722e6a736f6e222c22736368656d65223a2266696c65227d7d/workspaces/Sentinel1-Flood-Finder/nbs/98-WaterFinder.ipynb#X11sdnNjb2RlLXJlbW90ZQ%3D%3D?line=2'>3</a>\u001b[0m     aoi\u001b[39m=\u001b[39;49mgdf\u001b[39m.\u001b[39;49mgeometry[\u001b[39m0\u001b[39;49m],\n\u001b[1;32m      <a href='vscode-notebook-cell://dev-container%2B7b22686f737450617468223a22643a5c5c50726f6a656374735c5c53656e74696e656c312d466c6f6f642d46696e646572222c226c6f63616c446f636b6572223a66616c73652c22636f6e66696746696c65223a7b22246d6964223a312c22667350617468223a22643a5c5c50726f6a656374735c5c53656e74696e656c312d466c6f6f642d46696e6465725c5c2e646576636f6e7461696e65725c5c646576636f6e7461696e65722e6a736f6e222c225f736570223a312c2265787465726e616c223a2266696c653a2f2f2f642533412f50726f6a656374732f53656e74696e656c312d466c6f6f642d46696e6465722f2e646576636f6e7461696e65722f646576636f6e7461696e65722e6a736f6e222c2270617468223a222f643a2f50726f6a656374732f53656e74696e656c312d466c6f6f642d46696e6465722f2e646576636f6e7461696e65722f646576636f6e7461696e65722e6a736f6e222c22736368656d65223a2266696c65227d7d/workspaces/Sentinel1-Flood-Finder/nbs/98-WaterFinder.ipynb#X11sdnNjb2RlLXJlbW90ZQ%3D%3D?line=3'>4</a>\u001b[0m     time_range\u001b[39m=\u001b[39;49m\u001b[39m'\u001b[39;49m\u001b[39m2018-12/2019-02\u001b[39;49m\u001b[39m'\u001b[39;49m, \n\u001b[1;32m      <a href='vscode-notebook-cell://dev-container%2B7b22686f737450617468223a22643a5c5c50726f6a656374735c5c53656e74696e656c312d466c6f6f642d46696e646572222c226c6f63616c446f636b6572223a66616c73652c22636f6e66696746696c65223a7b22246d6964223a312c22667350617468223a22643a5c5c50726f6a656374735c5c53656e74696e656c312d466c6f6f642d46696e6465725c5c2e646576636f6e7461696e65725c5c646576636f6e7461696e65722e6a736f6e222c225f736570223a312c2265787465726e616c223a2266696c653a2f2f2f642533412f50726f6a656374732f53656e74696e656c312d466c6f6f642d46696e6465722f2e646576636f6e7461696e65722f646576636f6e7461696e65722e6a736f6e222c2270617468223a222f643a2f50726f6a656374732f53656e74696e656c312d466c6f6f642d46696e6465722f2e646576636f6e7461696e65722f646576636f6e7461696e65722e6a736f6e222c22736368656d65223a2266696c65227d7d/workspaces/Sentinel1-Flood-Finder/nbs/98-WaterFinder.ipynb#X11sdnNjb2RlLXJlbW90ZQ%3D%3D?line=4'>5</a>\u001b[0m     lee_size\u001b[39m=\u001b[39;49m\u001b[39m7\u001b[39;49m,\n\u001b[1;32m      <a href='vscode-notebook-cell://dev-container%2B7b22686f737450617468223a22643a5c5c50726f6a656374735c5c53656e74696e656c312d466c6f6f642d46696e646572222c226c6f63616c446f636b6572223a66616c73652c22636f6e66696746696c65223a7b22246d6964223a312c22667350617468223a22643a5c5c50726f6a656374735c5c53656e74696e656c312d466c6f6f642d46696e6465725c5c2e646576636f6e7461696e65725c5c646576636f6e7461696e65722e6a736f6e222c225f736570223a312c2265787465726e616c223a2266696c653a2f2f2f642533412f50726f6a656374732f53656e74696e656c312d466c6f6f642d46696e6465722f2e646576636f6e7461696e65722f646576636f6e7461696e65722e6a736f6e222c2270617468223a222f643a2f50726f6a656374732f53656e74696e656c312d466c6f6f642d46696e6465722f2e646576636f6e7461696e65722f646576636f6e7461696e65722e6a736f6e222c22736368656d65223a2266696c65227d7d/workspaces/Sentinel1-Flood-Finder/nbs/98-WaterFinder.ipynb#X11sdnNjb2RlLXJlbW90ZQ%3D%3D?line=5'>6</a>\u001b[0m     print_log\u001b[39m=\u001b[39;49m\u001b[39mTrue\u001b[39;49;00m\n\u001b[1;32m      <a href='vscode-notebook-cell://dev-container%2B7b22686f737450617468223a22643a5c5c50726f6a656374735c5c53656e74696e656c312d466c6f6f642d46696e646572222c226c6f63616c446f636b6572223a66616c73652c22636f6e66696746696c65223a7b22246d6964223a312c22667350617468223a22643a5c5c50726f6a656374735c5c53656e74696e656c312d466c6f6f642d46696e6465725c5c2e646576636f6e7461696e65725c5c646576636f6e7461696e65722e6a736f6e222c225f736570223a312c2265787465726e616c223a2266696c653a2f2f2f642533412f50726f6a656374732f53656e74696e656c312d466c6f6f642d46696e6465722f2e646576636f6e7461696e65722f646576636f6e7461696e65722e6a736f6e222c2270617468223a222f643a2f50726f6a656374732f53656e74696e656c312d466c6f6f642d46696e6465722f2e646576636f6e7461696e65722f646576636f6e7461696e65722e6a736f6e222c22736368656d65223a2266696c65227d7d/workspaces/Sentinel1-Flood-Finder/nbs/98-WaterFinder.ipynb#X11sdnNjb2RlLXJlbW90ZQ%3D%3D?line=6'>7</a>\u001b[0m )\n",
      "File \u001b[0;32m/workspaces/Sentinel1-Flood-Finder/src/flood_finder/waterfinder.py:72\u001b[0m, in \u001b[0;36mWaterFinder.__init__\u001b[0;34m(self, output_path, aoi, time_range, lee_size, print_log, log_level, max_nodata)\u001b[0m\n\u001b[1;32m     66\u001b[0m \u001b[39mself\u001b[39m\u001b[39m.\u001b[39mlogger \u001b[39m=\u001b[39m logging\u001b[39m.\u001b[39mgetLogger(\n\u001b[1;32m     67\u001b[0m     \u001b[39mself\u001b[39m\u001b[39m.\u001b[39moutput_path\u001b[39m.\u001b[39mstem \u001b[39m+\u001b[39m \u001b[39m\"\u001b[39m\u001b[39m.\u001b[39m\u001b[39m\"\u001b[39m \u001b[39m+\u001b[39m \u001b[39mtype\u001b[39m(\u001b[39mself\u001b[39m)\u001b[39m.\u001b[39m\u001b[39m__name__\u001b[39m\n\u001b[1;32m     68\u001b[0m )\n\u001b[1;32m     70\u001b[0m \u001b[39mself\u001b[39m\u001b[39m.\u001b[39mlogger\u001b[39m.\u001b[39minfo(\u001b[39m\"\u001b[39m\u001b[39mStarting WaterFinder instance for \u001b[39m\u001b[39m%s\u001b[39;00m\u001b[39m\"\u001b[39m, \u001b[39mself\u001b[39m\u001b[39m.\u001b[39moutput_path\u001b[39m.\u001b[39mname)\n\u001b[0;32m---> 72\u001b[0m \u001b[39mself\u001b[39m\u001b[39m.\u001b[39mimage_finder \u001b[39m=\u001b[39m ImageFinder()\n\u001b[1;32m     74\u001b[0m \u001b[39mself\u001b[39m\u001b[39m.\u001b[39mlogger\u001b[39m.\u001b[39minfo(\u001b[39m\"\u001b[39m\u001b[39mRetrieving water recurrence\u001b[39m\u001b[39m\"\u001b[39m)\n\u001b[1;32m     75\u001b[0m \u001b[39mself\u001b[39m\u001b[39m.\u001b[39mrecurrence \u001b[39m=\u001b[39m \u001b[39mself\u001b[39m\u001b[39m.\u001b[39mimage_finder\u001b[39m.\u001b[39mget_water_baseline(\n\u001b[1;32m     76\u001b[0m     aoi\u001b[39m=\u001b[39maoi, asset\u001b[39m=\u001b[39m\u001b[39m\"\u001b[39m\u001b[39mrecurrence\u001b[39m\u001b[39m\"\u001b[39m\n\u001b[1;32m     77\u001b[0m )\u001b[39m.\u001b[39mcompute()\n",
      "\u001b[0;31mTypeError\u001b[0m: ImageFinder.__init__() missing 1 required positional argument: 'subscription_key'"
     ]
    }
   ],
   "source": [
    "finder = WaterFinder(\n",
    "    output_path='../tmp',\n",
    "    aoi=gdf.geometry[0],\n",
    "    subscription_key='60c2795c5764470ca21438274583378d',\n",
    "    time_range='2018-12/2019-02', \n",
    "    lee_size=7,\n",
    "    print_log=True\n",
    ")"
   ]
  },
  {
   "cell_type": "code",
   "execution_count": null,
   "metadata": {},
   "outputs": [],
   "source": []
  },
  {
   "cell_type": "code",
   "execution_count": null,
   "metadata": {},
   "outputs": [],
   "source": []
  },
  {
   "cell_type": "code",
   "execution_count": null,
   "metadata": {},
   "outputs": [],
   "source": []
  }
 ],
 "metadata": {
  "kernelspec": {
   "display_name": "Python 3",
   "language": "python",
   "name": "python3"
  },
  "language_info": {
   "codemirror_mode": {
    "name": "ipython",
    "version": 3
   },
   "file_extension": ".py",
   "mimetype": "text/x-python",
   "name": "python",
   "nbconvert_exporter": "python",
   "pygments_lexer": "ipython3",
   "version": "3.10.6"
  }
 },
 "nbformat": 4,
 "nbformat_minor": 2
}
