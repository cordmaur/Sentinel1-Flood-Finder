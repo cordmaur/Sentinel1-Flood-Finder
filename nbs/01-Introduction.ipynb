{
 "cells": [
  {
   "cell_type": "markdown",
   "metadata": {},
   "source": [
    "# Sentinel 1 Flood Finder "
   ]
  },
  {
   "cell_type": "markdown",
   "metadata": {},
   "source": [
    "Flood is one of the natural hazards that impacts most the life of thousands of people every year, causing deaths and other losses. \n",
    "Flood forecasts and alert systems are crucial to mitigate deaths and destruction caused by these events. In this regard, obtaining the precise extension of floodwaters is also important for effective emergency management. Field surveys for flood extension mapping is costly not always a feasible task, therefore remote sensing can play a vital role in this process. \n",
    "\n",
    "Most of the water detection techniques from satellite remote sensing rely on optical imagery. However, flood events are usually coupled with intense cloud cover, preventing the sensor to survey the ground. Radar (SAR) have an edge in this matter, but the water mapping techniques are not as straightforward. \n",
    "\n",
    "In this context, The `S1FloodFinder` Python package was designed to be a simple solution for flood map delineation through Sentinel 1 (SAR) imagery. It uses the radiometrically corrected S1 imagery available from the <b>Microsoft Planetary Computer</b> (Figure 1). Image patches are downloaded just in time, so the user does not have to deal with the hassle of downloading huge amounts of imagery.  that are dow without the hassle of"
   ]
  },
  {
   "cell_type": "markdown",
   "metadata": {},
   "source": []
  }
 ],
 "metadata": {
  "language_info": {
   "name": "python"
  }
 },
 "nbformat": 4,
 "nbformat_minor": 2
}
